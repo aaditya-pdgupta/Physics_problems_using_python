{
 "cells": [
  {
   "cell_type": "markdown",
   "id": "cde0154a",
   "metadata": {},
   "source": [
    "# Optimization and Root Finding\n",
    "\n",
    "#### Optimization is a process of finding the best solution to a problem to the extent where it can not be resonably improved by any further solutions.The best solution for optimization is found by adjusting variables and parameters until we achieve maximum desirable attributes and minimum undesirable ones. Maximum and minimum values are the common goals of optimization. It is widely used in various field which includes molecular simulations, regression analysis and various machine learning algorithms. \n",
    "\n",
    "####  While performing the optimizations task, we try to find the maximum and minimum of a given mathematical function. For example, if we seek to minimize a function $f(a,b)$, our main goal will be to find the values for input variables $a$ and $b$ to generate the smallest possible output from the function $f$. One approach for doing this is to manually try different input values until we get the smallest possible outputs. This can be tedious and time-consuming task so we can use computer to reduce time and make it easier. We use  `scipy.optimize`sub-package module of the SciPy library as it contains a number of function for performing optimizations of mathematical functions. In this project we will introduce `scipy.optimize` module and apply it to chemical applications. We will not deeply discuss about deeper theory behind optimization in this project. \n",
    "\n",
    "#### Before continuing, we need to find the way to measure what is \"best\"?. For this, we will use a cost function also known called as objective function. Cost function is a mathematical function that maps the difference between the predicted output of a model and its actual output. The cost function measures the \"goodness\" of the model's prediction and is used to guide the optimization of the model's parameters. Optimization of a molecule's conformation involves minimizing the energy, so the objective function here is the function that calculates the energy of the molecules based on the attributes like bond angles and lengths. In the examples discussed below, each of the `scipy.optimize` functions takes as its first argument an objective function in the form of a Python function. \n",
    "\n",
    "#### `scipy.optimize.func(obj_func)`\n",
    "#### The examples in this project assume the following imports from NumPy, SciPy, pandas, and matplotlib."
   ]
  },
  {
   "cell_type": "code",
   "execution_count": 3,
   "id": "e7dc5e99",
   "metadata": {},
   "outputs": [],
   "source": [
    "import numpy as np\n",
    "import pandas as pd\n",
    "from scipy import optimize\n",
    "import matplotlib.pyplot as plt\n",
    "%matplotlib inline"
   ]
  },
  {
   "cell_type": "code",
   "execution_count": 5,
   "id": "b0c186cd",
   "metadata": {},
   "outputs": [],
   "source": [
    "np.random.seed(18)"
   ]
  },
  {
   "cell_type": "markdown",
   "id": "68f62b12",
   "metadata": {},
   "source": [
    "## Minimization\n",
    "\n",
    "#### Minimization is the process of finding the minimum value of a given cost function. For the minimization, `scipy.optimize` has two related function `scipy.optimize.minimize()` and `scipy.optimize.minimize_scalar`. Both functions minimize the given function, but the differenence is in the number of independent variables that the objective function takes. A function that has only one independent variable such as $ is called a univariant function, while a function that takes multiple independent variables is called a multivariant function. \n",
    "\n",
    " "
   ]
  },
  {
   "cell_type": "code",
   "execution_count": null,
   "id": "08a45810",
   "metadata": {},
   "outputs": [],
   "source": []
  }
 ],
 "metadata": {
  "kernelspec": {
   "display_name": "Python 3 (ipykernel)",
   "language": "python",
   "name": "python3"
  },
  "language_info": {
   "codemirror_mode": {
    "name": "ipython",
    "version": 3
   },
   "file_extension": ".py",
   "mimetype": "text/x-python",
   "name": "python",
   "nbconvert_exporter": "python",
   "pygments_lexer": "ipython3",
   "version": "3.9.12"
  }
 },
 "nbformat": 4,
 "nbformat_minor": 5
}
