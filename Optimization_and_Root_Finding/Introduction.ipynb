{
 "cells": [
  {
   "cell_type": "markdown",
   "id": "acc9135a",
   "metadata": {},
   "source": [
    "# Optimization and Root Finding\n",
    "\n",
    "#### Optimization is a process of finding the best solution to a problem to the extent where it can not be resonably improved by any further solutions.The best solution for optimization is found by adjusting variables and parameters until we achieve maximum desirable attributes and minimum undesirable ones. Maximum and minimum values are the common goals of optimization. It is widely used in various field which includes molecular simulations, regression analysis and various machine learning algorithms. \n",
    "\n",
    "####  While performing the optimizations task, we try to find the maximum and minimum of a given mathematical function. For example, if we seek to minimize a function $f(a,b)$, our main goal will be to find the values for input variables $a$ and $b$ to generate the smallest possible output from the function $f$. One approach for doing this is to manually try different input values until we get the smallest possible outputs. This can be tedious and time-consuming task so we can use computer to reduce time and make it easier. We use  `scipy.optimize`sub-package module of the SciPy library as it contains a number of function for performing optimizations of mathematical functions. In this project we will introduce `scipy.optimize` module and apply it to chemical applications. We will not deeply discuss about deeper theory behind optimization in this project. \n",
    "\n",
    "#### Before continuing, we need to find the way to measure what is \"best\"?. For this, we will use a cost function also known called as objective function. Cost function is a mathematical function that maps the difference between the predicted output of a model and its actual output. The cost function measures the \"goodness\" of the model's prediction and is used to guide the optimization of the model's parameters. Optimization of a molecule's conformation involves minimizing the energy, so the objective function here is the function that calculates the energy of the molecules based on the attributes like bond angles and lengths. In the examples discussed below, each of the `scipy.optimize` functions takes as its first argument an objective function in the form of a Python function. \n",
    "\n",
    "#### `scipy.optimize.func(obj_func)`\n",
    "#### The examples in this project assume the following imports from NumPy, SciPy, pandas, and matplotlib."
   ]
  },
  {
   "cell_type": "code",
   "execution_count": 7,
   "id": "f7c5f8c9",
   "metadata": {},
   "outputs": [],
   "source": [
    "import numpy as np\n",
    "import pandas as pd\n",
    "from scipy import optimize\n",
    "import matplotlib.pyplot as plt\n",
    "%matplotlib inline"
   ]
  },
  {
   "cell_type": "code",
   "execution_count": 8,
   "id": "1355d7a0",
   "metadata": {},
   "outputs": [],
   "source": [
    "np.random.seed(18)"
   ]
  },
  {
   "cell_type": "markdown",
   "id": "0f2e0bf6",
   "metadata": {},
   "source": [
    "## Minimization\n",
    "\n",
    "#### Minimization is the process of finding the minimum value of a given objective function. For the minimization, `scipy.optimize` has two related function `scipy.optimize.minimize()` and `scipy.optimize.minimize_scalar`. Both functions minimize the given function, but the differenence is in the number of independent variables that the objective function takes. A function that has only one independent variable such as $f(a)$ is called a univariant function, while a function that takes multiple independent variables such as $f(a,b,...)$ is called a multivariant function. The `minimize()` can minimize both univariant and multivariant objective functions while `minimize_scalar()` can only handle univariant objective functions. \n",
    "\n",
    " "
   ]
  },
  {
   "cell_type": "markdown",
   "id": "ff550915",
   "metadata": {},
   "source": [
    "### Univariant Minimization\n",
    "\n",
    "#### Univariate minimization is a method for finding the minimum value of a univariate function, i.e. a function that depends on only one variable. So if we are trying to minimize a function with a single independent variable, the `scipy.optimize.minimize_scalar()` is good. For example, we will find the radius of minimal energy for two xenon atoms using the Lennard-Jones equation below which describes the potential energy with respect to the distance as $r$, between the two atoms with a value of $\\sigma = 4.10$ angstorms and $\\epsilon = 1.77 kj/mol$.\n",
    "\n",
    "$$ PE = 4\\epsilon\\left[\\left(\\frac{\\sigma}{r}\\right)^{12} - \\left(\\frac{\\sigma}{r}\\right)^6\\right] $$\n",
    "\n",
    "#### Being that energy described by the Lennard-Jones energy equation is what we are trying to minimize, this is our objective function. We first need to define this equation as a Python function."
   ]
  },
  {
   "cell_type": "code",
   "execution_count": 1,
   "id": "4f632327",
   "metadata": {},
   "outputs": [],
   "source": [
    "def PE_LJ(r):\n",
    "    epsilon = 4.10 #kJ/mol\n",
    "    sigma = 1.77 #angstroms\n",
    "    PE = 4 * epsilon * ( (sigma/r)**12 - (sigma/r)**6)\n",
    "    return PE"
   ]
  },
  {
   "cell_type": "markdown",
   "id": "91aa7615",
   "metadata": {},
   "source": [
    "#### Here in this, we will feed our objective function into the `scipy.optimize.minimize_scalar()` function to minimize a scalar function along with some contraints. This is known as constrained optimization used for finding the optimal solution to an optimization problem. It is accomplished by setting the `method='bounded'` which specify the range of values that the function's input (the distance 'r' between two atoms) can take. \n",
    "\n",
    "#### `scipy.optimize.minimize_scalar(func, bounds=(start, stop), method=)` \n",
    "\n",
    "#### Here `start` and `stop` are lower and upper bounds respectively. Creating bound is typically optional, but if we know roughly where the minimum will be or where it can not be, this can be useful information. The `method` argument in this function is used to specify the optimization algorithm that will be used. In this example, it is important to provide constraint son $r$ for ensuring that the `minimize_scalar()`  function will not generate a `ZeroDivisionError` by trying the value '$r = 0$'.\n",
    "\n",
    "#### `optimize` model was imported explicitly in thi s"
   ]
  },
  {
   "cell_type": "code",
   "execution_count": null,
   "id": "643c1e90",
   "metadata": {},
   "outputs": [],
   "source": []
  }
 ],
 "metadata": {
  "kernelspec": {
   "display_name": "Python 3 (ipykernel)",
   "language": "python",
   "name": "python3"
  },
  "language_info": {
   "codemirror_mode": {
    "name": "ipython",
    "version": 3
   },
   "file_extension": ".py",
   "mimetype": "text/x-python",
   "name": "python",
   "nbconvert_exporter": "python",
   "pygments_lexer": "ipython3",
   "version": "3.9.12"
  }
 },
 "nbformat": 4,
 "nbformat_minor": 5
}
