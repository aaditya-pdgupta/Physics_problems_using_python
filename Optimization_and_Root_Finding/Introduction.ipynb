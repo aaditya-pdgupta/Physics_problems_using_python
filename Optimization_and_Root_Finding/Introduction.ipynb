{
 "cells": [
  {
   "cell_type": "markdown",
   "id": "3f9220a7",
   "metadata": {},
   "source": [
    "# Optimization and Root Finding\n",
    "\n",
    "#### Optimization is a process of finding the best solution to a problem to the extent where it can not be resonably improved by any further solutions.The best solution for optimization is found by adjusting variables and parameters until we achieve maximum desirable attributes and minimum undesirable ones. Maximum and minimum values are the common goals of optimization. It is widely used in various field which includes molecular simulations, regression analysis and various machine learning algorithms. \n",
    "\n",
    "####  While performing the optimizations task, we try to find the maximum and minimum of a given mathematical function. For example, if we seek to minimize a function $f(a,b)$, our main goal will be to find the values for "
   ]
  },
  {
   "cell_type": "code",
   "execution_count": null,
   "id": "cce3dd82",
   "metadata": {},
   "outputs": [],
   "source": []
  }
 ],
 "metadata": {
  "kernelspec": {
   "display_name": "Python 3 (ipykernel)",
   "language": "python",
   "name": "python3"
  },
  "language_info": {
   "codemirror_mode": {
    "name": "ipython",
    "version": 3
   },
   "file_extension": ".py",
   "mimetype": "text/x-python",
   "name": "python",
   "nbconvert_exporter": "python",
   "pygments_lexer": "ipython3",
   "version": "3.9.12"
  }
 },
 "nbformat": 4,
 "nbformat_minor": 5
}
